{
 "cells": [
  {
   "cell_type": "markdown",
   "metadata": {},
   "source": [
    "<img src=\"https://unsw-au.oss-cn-hongkong.aliyuncs.com/web/cover.png\"/>"
   ]
  },
  {
   "cell_type": "markdown",
   "metadata": {},
   "source": [
    "# `C` 语言中的结构体\n",
    "\n",
    "\n",
    "C 语言中的结构体（`struct`）是一种用户定义的数据类型，它可以让我们将不同类型的数据组合在一起，形成一个更复杂的类型。\n",
    "\n",
    "结构体的主要用途是为了更好地组织和管理多种类型的数据，尤其是在需要描述复杂的数据结构时，结构体非常有用。\n",
    "\n",
    "- 数组: 只能是相同的数据类型\n",
    "\n",
    "- 结构体: 可以是不同的数据类型"
   ]
  },
  {
   "cell_type": "markdown",
   "metadata": {},
   "source": [
    "## 结构体的定义和声明\n"
   ]
  },
  {
   "cell_type": "markdown",
   "metadata": {},
   "source": [
    "### 1. 定义结构体\n",
    "使用 `struct` 关键字来定义一个结构体。一个结构体可以包含多个不同类型的变量（称为结构体的成员）。\n",
    "\n"
   ]
  },
  {
   "cell_type": "markdown",
   "metadata": {},
   "source": [
    "- 语法"
   ]
  },
  {
   "cell_type": "code",
   "execution_count": null,
   "metadata": {
    "vscode": {
     "languageId": "c"
    }
   },
   "outputs": [],
   "source": [
    "struct 结构体名 {\n",
    "    数据类型1 成员名1;\n",
    "    数据类型2 成员名2;\n",
    "    // 其他成员\n",
    "};"
   ]
  },
  {
   "cell_type": "markdown",
   "metadata": {},
   "source": [
    "- 举例"
   ]
  },
  {
   "cell_type": "code",
   "execution_count": null,
   "metadata": {
    "vscode": {
     "languageId": "c"
    }
   },
   "outputs": [],
   "source": [
    "#include <stdio.h>\n",
    "\n",
    "// 定义一个表示学生信息的结构体\n",
    "struct Student {\n",
    "    // 学生id\n",
    "    int zid;\n",
    "    // 学生名字\n",
    "    char name[50];\n",
    "    // 学生\n",
    "    float score;\n",
    "};"
   ]
  },
  {
   "cell_type": "markdown",
   "metadata": {},
   "source": [
    "在上面的例子中，我们定义了一个名为 `Student` 的结构体，它包含三个成员：\n",
    "\n",
    "- `zid`: 整数，用于存储学生的学号\n",
    "\n",
    "- `name`：字符串, 用于存储学生的名字\n",
    "\n",
    "- `score`：浮点数，用于存储学生的分数。\n",
    "\n"
   ]
  },
  {
   "cell_type": "markdown",
   "metadata": {},
   "source": [
    "## 2. 声明结构体变量\n",
    "\n",
    "定义了结构体之后，可以使用该结构体类型来声明结构体变量。"
   ]
  },
  {
   "cell_type": "code",
   "execution_count": null,
   "metadata": {
    "vscode": {
     "languageId": "cpp"
    }
   },
   "outputs": [],
   "source": [
    "struct Student student1;  // 声明一个 Student 类型的变量 student1"
   ]
  },
  {
   "cell_type": "markdown",
   "metadata": {},
   "source": [
    "## 3. 初始化结构体"
   ]
  },
  {
   "cell_type": "markdown",
   "metadata": {},
   "source": [
    "- 直接初始化"
   ]
  },
  {
   "cell_type": "code",
   "execution_count": null,
   "metadata": {
    "vscode": {
     "languageId": "cpp"
    }
   },
   "outputs": [],
   "source": [
    "// 初始化结构体成员\n",
    "struct Student student1 = {1234567 , \"rbt\", 85.0};  "
   ]
  },
  {
   "cell_type": "markdown",
   "metadata": {},
   "source": [
    "- 先定义变量后再赋值\n",
    "\n",
    "特别注意: 结构体赋值使用的 `.` 的形式"
   ]
  },
  {
   "cell_type": "code",
   "execution_count": null,
   "metadata": {
    "vscode": {
     "languageId": "cpp"
    }
   },
   "outputs": [],
   "source": [
    "// 初始化结构体成员\n",
    "struct Student student1;\n",
    "// 挨个赋值\n",
    "// 学生 id\n",
    "student1.zid = 1234567;\n",
    "// 学生的名字\n",
    "student1.name = \"rbt\";\n",
    "// 学生的分数\n",
    "student1.score = 85.0;"
   ]
  },
  {
   "cell_type": "markdown",
   "metadata": {},
   "source": [
    "## 4. 访问结构体成员\n",
    "\n",
    "可以使用 . 操作符来访问结构体的成员。\n"
   ]
  },
  {
   "cell_type": "code",
   "execution_count": null,
   "metadata": {
    "vscode": {
     "languageId": "groovy"
    }
   },
   "outputs": [],
   "source": [
    "#include <stdio.h>\n",
    "\n",
    "// 定义一个表示学生信息的结构体\n",
    "struct Student {\n",
    "    // 学生id\n",
    "    int zid;\n",
    "    // 学生名字\n",
    "    char name[50];\n",
    "    // 学生分数\n",
    "    float score;\n",
    "};\n",
    "\n",
    "int main() {\n",
    "    // 初始化结构体\n",
    "    struct Student student1 = {1234567, \"rbt\", 85.0};\n",
    "\n",
    "    // 访问并打印结构体的成员\n",
    "    printf(\"zid: %d\\n\", student1.zid);\n",
    "    printf(\"name: %s\\n\", student1.name);\n",
    "    printf(\"score: %.2f\\n\", student1.score);\n",
    "\n",
    "    // 修改结构体成员\n",
    "    student1.score = 90;\n",
    "    printf(\"Updated score: %d\\n\", student1.score);\n",
    "\n",
    "    return 0;\n",
    "}\n"
   ]
  },
  {
   "cell_type": "markdown",
   "metadata": {},
   "source": [
    "## 结构体的其他用法\n",
    "\n",
    "### 1. 结构体数组\n",
    "\n",
    "结构体数组是存储同类型结构体对象的数组。\n",
    "\n"
   ]
  },
  {
   "cell_type": "code",
   "execution_count": null,
   "metadata": {
    "vscode": {
     "languageId": "c"
    }
   },
   "outputs": [],
   "source": [
    "struct Student students[2] = {\n",
    "    {1234567, \"Bob\", 80.0},\n",
    "    {1234568, \"rbt\", 90.0}\n",
    "};\n",
    "\n",
    "for (int i = 0; i < 2; i++) {\n",
    "    printf(\"Student %d: z%d, Name: %s, Score: %.2f\\n\", i+1, \n",
    "    students[i].zid, students[i].name, students[i].score);\n",
    "}\n"
   ]
  },
  {
   "cell_type": "markdown",
   "metadata": {},
   "source": [
    "### 2. 指向结构体的指针\n",
    "\n",
    "可以通过指针访问结构体，并使用 -> 操作符来访问指针指向的结构体成员。"
   ]
  },
  {
   "cell_type": "code",
   "execution_count": null,
   "metadata": {
    "vscode": {
     "languageId": "c"
    }
   },
   "outputs": [],
   "source": [
    "#include <stdio.h>\n",
    "\n",
    "struct Student {\n",
    "    int zid;\n",
    "    char name[50];\n",
    "    float score;\n",
    "};\n",
    "\n",
    "int main() {\n",
    "    struct Student student1 = {1234567, \"rbt\", 90.0};\n",
    "    struct Student *ptr = &student1;\n",
    "\n",
    "    // 使用指针访问结构体成员\n",
    "    printf(\"zid: %d\\n\", ptr->zid);\n",
    "    printf(\"name: %s\\n\", ptr->name);\n",
    "    printf(\"socre: %.2f\\n\", ptr->score);\n",
    "\n",
    "    return 0;\n",
    "}"
   ]
  },
  {
   "cell_type": "markdown",
   "metadata": {},
   "source": [
    "## 3. 嵌套结构体\n",
    "\n",
    "一个结构体可以包含另一个结构体作为其成员。"
   ]
  },
  {
   "cell_type": "code",
   "execution_count": null,
   "metadata": {
    "vscode": {
     "languageId": "c"
    }
   },
   "outputs": [],
   "source": [
    "#include <stdio.h>\n",
    "\n",
    "struct Address {\n",
    "    char city[50];\n",
    "    char state[50];\n",
    "};\n",
    "\n",
    "struct Student {\n",
    "    int zid;\n",
    "    char name[50];\n",
    "    // 嵌套结构体\n",
    "    struct Address address;  \n",
    "};\n",
    "\n",
    "int main() {\n",
    "    struct Student student1 = {1234567, \"rbt\", {\"Sydney\", \"NSW\"}};\n",
    "\n",
    "    printf(\"Zid: %d\\n\", student1.zid);\n",
    "    printf(\"Name: %s\\n\", student1.name);\n",
    "    printf(\"City: %s\\n\", student1.address.city);\n",
    "    printf(\"State: %s\\n\", student1.address.state);\n",
    "    \n",
    "    return 0;\n",
    "}\n"
   ]
  },
  {
   "cell_type": "markdown",
   "metadata": {},
   "source": [
    "### 4. `typedef` 和结构体\n",
    "\n",
    "`typedef` 可以用来为结构体定义一个别名，以简化结构体的使用。\n"
   ]
  },
  {
   "cell_type": "code",
   "execution_count": null,
   "metadata": {
    "vscode": {
     "languageId": "groovy"
    }
   },
   "outputs": [],
   "source": [
    "#include <stdio.h>\n",
    "\n",
    "// 给结构体定义一个别名 \"Student\"\n",
    "typedef struct {\n",
    "    int zid;\n",
    "    char name[50];\n",
    "    float score;\n",
    "} Student;  \n",
    "\n",
    "int main() {\n",
    "    // 使用别名声明结构体变量\n",
    "    Student student1 = {1234567, \"Frank\", 90.0};  \n",
    "    \n",
    "    printf(\"Zid: %d\\n\", student1.zid);\n",
    "    printf(\"Name: %s\\n\", student1.name);\n",
    "    printf(\"Score: %.2f\\n\", student1.score);\n",
    "\n",
    "    return 0;\n",
    "}\n"
   ]
  },
  {
   "cell_type": "markdown",
   "metadata": {},
   "source": [
    "通过 `typedef`，不再需要每次都写 `struct` 关键字，可以直接使用 `Student` 来声明结构体变量。"
   ]
  },
  {
   "cell_type": "markdown",
   "metadata": {},
   "source": [
    "## 结构体的内存布局\n",
    "\n",
    "每个结构体成员在内存中是连续存储的，虽然编译器有时会对齐数据以优化访问速度，这可能会在某些情况下导致成员之间出现空隙。\n",
    "\n",
    "例如，结构体中的 `int` 和 `char` 类型的变量由于对齐规则，可能会使结构体占用比成员直接相加更多的内存。\n",
    "\n",
    "你可以通过 `sizeof()` 函数来查看结构体在内存中的实际大小。\n",
    "\n"
   ]
  },
  {
   "cell_type": "code",
   "execution_count": null,
   "metadata": {
    "vscode": {
     "languageId": "c"
    }
   },
   "outputs": [],
   "source": [
    "#include <stdio.h>\n",
    "\n",
    "struct Example {\n",
    "    char a;\n",
    "    int b;\n",
    "};\n",
    "\n",
    "int main() {\n",
    "    printf(\"Size of struct: %lu bytes\\n\", sizeof(struct Example));\n",
    "    return 0;\n",
    "}\n"
   ]
  },
  {
   "cell_type": "markdown",
   "metadata": {},
   "source": [
    "## 结论\n",
    "\n",
    "C 语言中的结构体为我们提供了非常灵活的方式来组合不同类型的数据，便于描述复杂的数据结构。\n",
    "\n",
    "通过嵌套结构体、指针、结构体数组等方式，结构体在管理复杂数据时十分有用。"
   ]
  }
 ],
 "metadata": {
  "kernelspec": {
   "display_name": "Python 3",
   "language": "python",
   "name": "python3"
  },
  "language_info": {
   "name": "python",
   "version": "3.9.6"
  }
 },
 "nbformat": 4,
 "nbformat_minor": 2
}
