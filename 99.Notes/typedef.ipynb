{
 "cells": [
  {
   "cell_type": "markdown",
   "metadata": {},
   "source": [
    "<img src=\"https://unsw-au.oss-cn-hongkong.aliyuncs.com/web/cover.png\"/>"
   ]
  },
  {
   "cell_type": "markdown",
   "metadata": {},
   "source": [
    "# `typedef`的使用"
   ]
  },
  {
   "cell_type": "markdown",
   "metadata": {},
   "source": [
    "`typedef` 是 `C` 语言中用于为数据类型定义新名字（别名）的关键字。\n",
    "\n",
    "通过 `typedef`，程序员可以简化代码中的类型表达，增加代码的可读性和可维护性，尤其在处理复杂的数据类型（如指针、结构体、联合体等）时非常有用。"
   ]
  },
  {
   "cell_type": "markdown",
   "metadata": {},
   "source": [
    "## 1.基本用法"
   ]
  },
  {
   "cell_type": "markdown",
   "metadata": {},
   "source": [
    "`typedef` 的基本语法如下："
   ]
  },
  {
   "cell_type": "code",
   "execution_count": null,
   "metadata": {
    "vscode": {
     "languageId": "c"
    }
   },
   "outputs": [],
   "source": [
    "typedef existing_type new_type_name;"
   ]
  },
  {
   "cell_type": "markdown",
   "metadata": {},
   "source": [
    "- `existing_type`: 原始的类型，可以是基本类型、结构体、联合体、枚举类型或指针类型等。\n",
    "\n",
    "- `new_type_name`: 为该类型创建的新名字（别名）。\n"
   ]
  },
  {
   "cell_type": "markdown",
   "metadata": {},
   "source": [
    "### 1. 为基本数据类型定义别名\n"
   ]
  },
  {
   "cell_type": "code",
   "execution_count": null,
   "metadata": {
    "vscode": {
     "languageId": "c"
    }
   },
   "outputs": [],
   "source": [
    "typedef unsigned int uint;\n",
    "uint a = 10;  // 等价于 unsigned int a = 10;"
   ]
  },
  {
   "cell_type": "markdown",
   "metadata": {},
   "source": [
    "通过 `typedef`，我们为 `unsigned int` 类型创建了一个新的名称 `uint`，然后可以使用 `uint` 来定义变量。"
   ]
  },
  {
   "cell_type": "markdown",
   "metadata": {},
   "source": [
    "### 2. 指针类型的别名\n",
    "\n",
    "指针类型经常会变得复杂，使用 typedef 可以简化代码中的指针声明。\n",
    "\n",
    "\n"
   ]
  },
  {
   "cell_type": "code",
   "execution_count": null,
   "metadata": {
    "vscode": {
     "languageId": "c"
    }
   },
   "outputs": [],
   "source": [
    "typedef int* int_ptr;\n",
    "// 等价于 int *p1, *p2;\n",
    "int_ptr p1, p2;  "
   ]
  },
  {
   "cell_type": "markdown",
   "metadata": {},
   "source": [
    "这里 `int_ptr` 是 `int*` 类型的别名。通过 `int_ptr`，我们声明了两个指针 `p1` 和 `p2`，而不用重复写 `int*`。"
   ]
  },
  {
   "cell_type": "code",
   "execution_count": null,
   "metadata": {
    "vscode": {
     "languageId": "cpp"
    }
   },
   "outputs": [],
   "source": [
    "typedef char* string;\n",
    "// 等价于 int *p1, *p2;\n",
    "string w1;  "
   ]
  },
  {
   "cell_type": "markdown",
   "metadata": {},
   "source": [
    "### 3. 结构体和联合体的别名\n"
   ]
  },
  {
   "cell_type": "markdown",
   "metadata": {},
   "source": [
    "在 C 语言中，结构体和联合体通常需要在定义变量时使用 `struct` 关键字，使用 `typedef` 可以让它们的使用更加简洁。"
   ]
  },
  {
   "cell_type": "code",
   "execution_count": null,
   "metadata": {
    "vscode": {
     "languageId": "c"
    }
   },
   "outputs": [],
   "source": [
    "struct point {\n",
    "    int x;\n",
    "    int y;\n",
    "};\n",
    "// 定义别名 Point\n",
    "typedef struct point Point;  \n",
    "// 不需要再写 struct, 省掉了一个单词\n",
    "Point p1 = {10, 20};  \n"
   ]
  },
  {
   "cell_type": "markdown",
   "metadata": {},
   "source": [
    "这里我们定义了一个 `struct Point`，并使用 `typedef` 给它定义了别名 `Point`。这样以后我们可以直接使用 `Point` 来声明变量，而不需要重复写 `struct`。"
   ]
  },
  {
   "cell_type": "markdown",
   "metadata": {},
   "source": [
    "### 4.简化匿名结构体的使用\n",
    "\n",
    "你还可以使用 `typedef` 定义匿名结构体，让代码更简洁：\n",
    "\n"
   ]
  },
  {
   "cell_type": "code",
   "execution_count": null,
   "metadata": {
    "vscode": {
     "languageId": "c"
    }
   },
   "outputs": [],
   "source": [
    "typedef struct {\n",
    "    int x;\n",
    "    int y;\n",
    "} Point2D;\n",
    "\n",
    "Point2D p2 = {30, 40};  // 直接使用 Point2D 来声明结构体变量\n"
   ]
  },
  {
   "cell_type": "markdown",
   "metadata": {},
   "source": [
    "在这个例子中，我们没有为结构体指定名字，而是直接通过 `typedef` 创建了一个名为 `Point2D` 的类型别名，简化了结构体的定义和使用。"
   ]
  },
  {
   "cell_type": "markdown",
   "metadata": {},
   "source": [
    "### 5. 函数指针的别名"
   ]
  },
  {
   "cell_type": "markdown",
   "metadata": {},
   "source": [
    "函数指针的定义往往较为复杂，使用 `typedef` 可以使其声明更清晰。\n",
    "\n"
   ]
  },
  {
   "cell_type": "code",
   "execution_count": null,
   "metadata": {
    "vscode": {
     "languageId": "c"
    }
   },
   "outputs": [],
   "source": [
    "typedef int (*func_ptr)(int, int);\n",
    "int add(int a, int b) {\n",
    "    return a + b;\n",
    "}\n",
    "\n",
    "func_ptr f = add;  // 使用函数指针调用函数\n",
    "printf(\"%d\\n\", f(2, 3));  // 输出 5"
   ]
  },
  {
   "cell_type": "markdown",
   "metadata": {},
   "source": [
    "在这个例子中，`func_ptr` 是一个指向接受两个 `int` 参数并返回 `int` 的函数的指针类型。\n",
    "\n",
    "通过 `typedef`，我们可以简化函数指针的声明和使用。"
   ]
  },
  {
   "cell_type": "markdown",
   "metadata": {},
   "source": [
    "### 6. `typedef` 和数组的使用\n",
    "\n",
    "`typedef` 也可以用于数组，定义一个数组类型的别名，使得声明更具可读性。\n"
   ]
  },
  {
   "cell_type": "code",
   "execution_count": null,
   "metadata": {
    "vscode": {
     "languageId": "c"
    }
   },
   "outputs": [],
   "source": [
    "typedef int IntArray[10];\n",
    "IntArray arr = {1, 2, 3, 4, 5};  // 等价于 int arr[10];"
   ]
  },
  {
   "cell_type": "markdown",
   "metadata": {},
   "source": [
    "在这个例子中，`IntArray` 是 `int` 类型的长度为 `10` 的数组的别名。这样在声明数组时可以更直观地表达出数组的意图。\n",
    "\n"
   ]
  },
  {
   "cell_type": "markdown",
   "metadata": {},
   "source": [
    "## 总结\n",
    "`typedef` 是一个强大的工具，它通过为现有类型定义新的名字来简化复杂的类型声明。其常见用途包括：\n",
    "\n",
    "- 为基本数据类型或指针类型创建别名。\n",
    "\n",
    "- 简化结构体、联合体和枚举类型的使用。\n",
    "\n",
    "- 为函数指针定义易于理解的别名。\n",
    "\n",
    "- 使数组和复杂数据结构的声明更加简洁。\n",
    "\n",
    "- 使用 `typedef` 可以使代码更具可读性，特别是在处理复杂类型时"
   ]
  }
 ],
 "metadata": {
  "kernelspec": {
   "display_name": "Python 3",
   "language": "python",
   "name": "python3"
  },
  "language_info": {
   "codemirror_mode": {
    "name": "ipython",
    "version": 3
   },
   "file_extension": ".py",
   "mimetype": "text/x-python",
   "name": "python",
   "nbconvert_exporter": "python",
   "pygments_lexer": "ipython3",
   "version": "3.9.6"
  }
 },
 "nbformat": 4,
 "nbformat_minor": 2
}
